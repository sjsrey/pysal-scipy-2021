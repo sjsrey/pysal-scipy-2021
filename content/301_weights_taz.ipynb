{
 "cells": [
  {
   "cell_type": "markdown",
   "metadata": {},
   "source": [
    "# Spatial Weights: Case Study\n",
    "\n",
    "- [Introduction](#Introduction)\n",
    "- [Data](#Data)\n",
    "- [TAZ Contiguity](#Construct-a-Rook-contiguity-weight)\n",
    "- [Counties as sets](#Counties-as-sets)\n",
    "- [Block weights](#Block-weights)\n",
    "- [Intersection weights](#Intersection-weights)\n",
    "\n",
    "## Introduction\n",
    "This notebook illustrates the use of PySAL weights in preparing input to a\n",
    "spatial optimization model. It makes use of the `set-theoretic` functionality\n",
    "that the weights class affords.\n",
    "\n",
    "The researcher is building an optimization model to partition traffic analysis\n",
    "zones (TAZs) subject to contiguity constraints and a boundary condition, such\n",
    "that flows between TAZs assigned to the same group are maximized, but flows\n",
    "cannot cross specified boundaries. The problem facing the research is to develop\n",
    "a representation of neighbor relations as input to the spatial optimization\n",
    "model."
   ]
  },
  {
   "cell_type": "markdown",
   "metadata": {},
   "source": [
    "## Data\n",
    "The data under consideration is a set of *Traffic Analysis Zones* (TAZs) in Southern California.\n",
    "We first read these in and visualize the context:"
   ]
  },
  {
   "cell_type": "code",
   "execution_count": null,
   "metadata": {},
   "outputs": [],
   "source": [
    "import numpy as np\n",
    "import libpysal \n",
    "import random as rdm\n",
    "import geopandas as gpd\n",
    "from matplotlib.collections import LineCollection\n",
    "import matplotlib.pyplot as plt\n",
    "%matplotlib inline"
   ]
  },
  {
   "cell_type": "code",
   "execution_count": null,
   "metadata": {},
   "outputs": [],
   "source": [
    "shp = gpd.read_file(libpysal.examples.get_path(\"taz.shp\"))\n",
    "shp.head()"
   ]
  },
  {
   "cell_type": "code",
   "execution_count": null,
   "metadata": {
    "lines_to_next_cell": 2
   },
   "outputs": [],
   "source": [
    "shp.plot(figsize=(15,15),color='white', edgecolor='grey')\n",
    "plt.axis('off')"
   ]
  },
  {
   "cell_type": "markdown",
   "metadata": {},
   "source": [
    "### Construct a Rook contiguity weight\n",
    "The researcher first needs to define the adjacency relations between the TAZs. Here the *rook* criterion is used:"
   ]
  },
  {
   "cell_type": "code",
   "execution_count": null,
   "metadata": {},
   "outputs": [],
   "source": [
    "wrook = libpysal.weights.Rook.from_dataframe(shp)"
   ]
  },
  {
   "cell_type": "code",
   "execution_count": null,
   "metadata": {},
   "outputs": [],
   "source": [
    "def w2line_graph(w, shp):\n",
    "    segments = []\n",
    "    centroids = shp.centroid.values\n",
    "    for i in w.id2i:\n",
    "        origin = np.array(centroids[i].coords)[0] \n",
    "        for j in w.neighbors[i]:\n",
    "            dest = np.array(centroids[j].coords)[0]\n",
    "            ij = [i,j]\n",
    "            ij.sort()\n",
    "            segments.append([origin, dest])\n",
    "\n",
    "    return segments    "
   ]
  },
  {
   "cell_type": "code",
   "execution_count": null,
   "metadata": {},
   "outputs": [],
   "source": [
    "segs = w2line_graph(wrook, shp)\n",
    "fig, ax = plt.subplots(figsize=(15,15))\n",
    "ax.set_aspect('equal')\n",
    "shp.plot(ax=ax, color='white', edgecolor='grey')\n",
    "segs_plot = LineCollection(np.array(segs),colors=\"red\")\n",
    "segs_plot.set_linewidth(0.20)\n",
    "ax.add_collection(segs_plot)\n",
    "ax.set_axis_off()"
   ]
  },
  {
   "cell_type": "markdown",
   "metadata": {},
   "source": [
    "We can zoom into a more dense area of the region by setting the view limits on the axis object:"
   ]
  },
  {
   "cell_type": "code",
   "execution_count": null,
   "metadata": {
    "lines_to_next_cell": 0
   },
   "outputs": [],
   "source": [
    "segs = w2line_graph(wrook, shp)\n",
    "fig, ax = plt.subplots(figsize=(15,15))\n",
    "ax.set_aspect('equal')\n",
    "shp.plot(ax=ax, color='white', edgecolor='grey')\n",
    "segs_plot = LineCollection(np.array(segs),colors=\"red\")\n",
    "segs_plot.set_linewidth(0.20)\n",
    "ax.add_collection(segs_plot)\n",
    "_ = ax.set_xlim(360000, 400000)\n",
    "_ = ax.set_ylim(3730000, 3780000)\n",
    "\n",
    "#ax.set_axis_off()"
   ]
  },
  {
   "cell_type": "markdown",
   "metadata": {},
   "source": [
    "Note that we have commented out the call to turn the axis off. \n",
    "\n",
    "## Counties as sets\n",
    "The county boundaries are going to play the role of the sets. "
   ]
  },
  {
   "cell_type": "code",
   "execution_count": null,
   "metadata": {},
   "outputs": [],
   "source": [
    "shp[\"CNTY\"].describe()"
   ]
  },
  {
   "cell_type": "code",
   "execution_count": null,
   "metadata": {
    "lines_to_next_cell": 0
   },
   "outputs": [],
   "source": [
    "fig, ax = plt.subplots(figsize=(15,15))\n",
    "ax.set_aspect('equal')\n",
    "shp.plot(ax=ax,color='white', edgecolor='black')\n",
    "shp.plot(column=\"CNTY\", ax=ax, categorical=True,cmap=\"Pastel1\",alpha=0.6)\n",
    "ax.set_axis_off()"
   ]
  },
  {
   "cell_type": "markdown",
   "metadata": {},
   "source": [
    "## Block weights\n",
    "\n",
    "As we learned previously, block weights use a *regime variable* that partitions the observations into exhaustive and mutually exclusive groups. All members belonging to the same group are treated as pair-wise neighbors."
   ]
  },
  {
   "cell_type": "code",
   "execution_count": null,
   "metadata": {},
   "outputs": [],
   "source": [
    "libpysal.weights.block_weights?"
   ]
  },
  {
   "cell_type": "markdown",
   "metadata": {},
   "source": [
    "Given this, we can use the `CNTY` attribute as our membership variable:"
   ]
  },
  {
   "cell_type": "code",
   "execution_count": null,
   "metadata": {},
   "outputs": [],
   "source": [
    "wb = libpysal.weights.block_weights(shp[\"CNTY\"])"
   ]
  },
  {
   "cell_type": "markdown",
   "metadata": {},
   "source": [
    "Notice the warning about 6 disconected components. This is definitely a feature here, as the model precludes TAZs from different counties forming a neighbor pair.\n",
    "\n",
    "Examining the block weight, we learn that it is much more dense than\n",
    " than the simple rook contiguity graph:"
   ]
  },
  {
   "cell_type": "code",
   "execution_count": null,
   "metadata": {
    "lines_to_next_cell": 2
   },
   "outputs": [],
   "source": [
    "print(wb.pct_nonzero, wrook.pct_nonzero)"
   ]
  },
  {
   "cell_type": "markdown",
   "metadata": {},
   "source": [
    "## Intersection weights\n",
    "\n",
    "We now have two weights objects that we can use to arrive at the desired neighbor graph. The rook weights object defines all TAZs that share an edge, including those pairs belonging to different counties. We want all of these pairs with the exception of the latter. The block weights define as neighbors all pairs of TAZs belonging to the same county. The intersection of these two weights objects will give us what we need:"
   ]
  },
  {
   "cell_type": "code",
   "execution_count": null,
   "metadata": {},
   "outputs": [],
   "source": [
    "wint = libpysal.weights.w_intersection(wb, wrook)"
   ]
  },
  {
   "cell_type": "code",
   "execution_count": null,
   "metadata": {},
   "outputs": [],
   "source": [
    "segs = w2line_graph(wint, shp)\n",
    "fig, ax = plt.subplots(figsize=(15,15))\n",
    "ax.set_aspect('equal')\n",
    "shp.plot(ax=ax, color='white', edgecolor='grey')\n",
    "segs_plot = LineCollection(np.array(segs),colors=\"red\")\n",
    "segs_plot.set_linewidth(0.20)\n",
    "ax.add_collection(segs_plot)\n",
    "ax.set_axis_off()"
   ]
  },
  {
   "cell_type": "code",
   "execution_count": null,
   "metadata": {},
   "outputs": [],
   "source": [
    "fig, ax = plt.subplots(figsize=(15,15))\n",
    "ax.set_aspect('equal')\n",
    "shp.plot(ax=ax,color='white', edgecolor='black')\n",
    "shp.plot(column=\"CNTY\", ax=ax, categorical=True,cmap=\"Pastel1\",alpha=0.6)\n",
    "segs_plot = LineCollection(np.array(segs),colors=\"red\")\n",
    "segs_plot.set_linewidth(0.20)\n",
    "ax.add_collection(segs_plot)\n",
    "ax.set_axis_off()"
   ]
  },
  {
   "cell_type": "markdown",
   "metadata": {},
   "source": [
    "---\n",
    "\n",
    "<a rel=\"license\" href=\"http://creativecommons.org/licenses/by-nc-\n",
    "sa/4.0/\"><img alt=\"Creative Commons License\" style=\"border-width:0\"\n",
    "src=\"https://i.creativecommons.org/l/by-nc-sa/4.0/88x31.png\" /></a><br /><span\n",
    "xmlns:dct=\"http://purl.org/dc/terms/\" property=\"dct:title\">Spatial Weights: Case Study</span> by <a xmlns:cc=\"http://creativecommons.org/ns#\"\n",
    "href=\"http://sergerey.org\" property=\"cc:attributionName\"\n",
    "rel=\"cc:attributionURL\">Serge Rey</a> is licensed under a <a\n",
    "rel=\"license\" href=\"http://creativecommons.org/licenses/by-nc-sa/4.0/\">Creative\n",
    "Commons Attribution-NonCommercial-ShareAlike 4.0 International License</a>."
   ]
  }
 ],
 "metadata": {
  "jupytext": {
   "formats": "ipynb,md"
  },
  "kernelspec": {
   "display_name": "Python 3",
   "language": "python",
   "name": "python3"
  },
  "language_info": {
   "codemirror_mode": {
    "name": "ipython",
    "version": 3
   },
   "file_extension": ".py",
   "mimetype": "text/x-python",
   "name": "python",
   "nbconvert_exporter": "python",
   "pygments_lexer": "ipython3",
   "version": "3.6.7"
  }
 },
 "nbformat": 4,
 "nbformat_minor": 4
}
